{
 "metadata": {
  "name": "",
  "signature": "sha256:240b5bf0b39ca551f95508e669acea8db5995bc7f756e39ad717c6172fd5bf22"
 },
 "nbformat": 3,
 "nbformat_minor": 0,
 "worksheets": [
  {
   "cells": [
    {
     "cell_type": "code",
     "collapsed": false,
     "input": [
      "from __future__ import print_function, division\n",
      "\n",
      "import first\n",
      "import statsmodels.formula.api as smf\n",
      "import regression\n",
      "import chap01soln\n",
      "import pandas"
     ],
     "language": "python",
     "metadata": {},
     "outputs": [],
     "prompt_number": 51
    },
    {
     "cell_type": "code",
     "collapsed": false,
     "input": [
      "live, firsts, others = first.MakeFrames()"
     ],
     "language": "python",
     "metadata": {},
     "outputs": [],
     "prompt_number": 2
    },
    {
     "cell_type": "code",
     "collapsed": false,
     "input": [
      "formula = 'totalwgt_lb ~ agepreg'\n",
      "model = smf.ols(formula, data=live)\n",
      "results = model.fit()"
     ],
     "language": "python",
     "metadata": {},
     "outputs": [],
     "prompt_number": 3
    },
    {
     "cell_type": "code",
     "collapsed": false,
     "input": [
      "model"
     ],
     "language": "python",
     "metadata": {},
     "outputs": [
      {
       "metadata": {},
       "output_type": "pyout",
       "prompt_number": 4,
       "text": [
        "<statsmodels.regression.linear_model.OLS at 0x1178b4f50>"
       ]
      }
     ],
     "prompt_number": 4
    },
    {
     "cell_type": "code",
     "collapsed": false,
     "input": [
      "inter = results.params['Intercept']\n",
      "slope = results.params['agepreg']\n",
      "slope_pvalue = results.pvalues['agepreg']\n",
      "rsquared = results.rsquared"
     ],
     "language": "python",
     "metadata": {},
     "outputs": [],
     "prompt_number": 5
    },
    {
     "cell_type": "code",
     "collapsed": false,
     "input": [
      "results.summary()"
     ],
     "language": "python",
     "metadata": {},
     "outputs": [
      {
       "html": [
        "<table class=\"simpletable\">\n",
        "<caption>OLS Regression Results</caption>\n",
        "<tr>\n",
        "  <th>Dep. Variable:</th>       <td>totalwgt_lb</td>   <th>  R-squared:         </th> <td>   0.005</td> \n",
        "</tr>\n",
        "<tr>\n",
        "  <th>Model:</th>                   <td>OLS</td>       <th>  Adj. R-squared:    </th> <td>   0.005</td> \n",
        "</tr>\n",
        "<tr>\n",
        "  <th>Method:</th>             <td>Least Squares</td>  <th>  F-statistic:       </th> <td>   43.02</td> \n",
        "</tr>\n",
        "<tr>\n",
        "  <th>Date:</th>             <td>Fri, 23 Jan 2015</td> <th>  Prob (F-statistic):</th> <td>5.72e-11</td> \n",
        "</tr>\n",
        "<tr>\n",
        "  <th>Time:</th>                 <td>15:56:22</td>     <th>  Log-Likelihood:    </th> <td> -15897.</td> \n",
        "</tr>\n",
        "<tr>\n",
        "  <th>No. Observations:</th>      <td>  9038</td>      <th>  AIC:               </th> <td>3.180e+04</td>\n",
        "</tr>\n",
        "<tr>\n",
        "  <th>Df Residuals:</th>          <td>  9036</td>      <th>  BIC:               </th> <td>3.181e+04</td>\n",
        "</tr>\n",
        "<tr>\n",
        "  <th>Df Model:</th>              <td>     1</td>      <th>                     </th>     <td> </td>    \n",
        "</tr>\n",
        "<tr>\n",
        "  <th>Covariance Type:</th>      <td>nonrobust</td>    <th>                     </th>     <td> </td>    \n",
        "</tr>\n",
        "</table>\n",
        "<table class=\"simpletable\">\n",
        "<tr>\n",
        "      <td></td>         <th>coef</th>     <th>std err</th>      <th>t</th>      <th>P>|t|</th> <th>[95.0% Conf. Int.]</th> \n",
        "</tr>\n",
        "<tr>\n",
        "  <th>Intercept</th> <td>    6.8304</td> <td>    0.068</td> <td>  100.470</td> <td> 0.000</td> <td>    6.697     6.964</td>\n",
        "</tr>\n",
        "<tr>\n",
        "  <th>agepreg</th>   <td>    0.0175</td> <td>    0.003</td> <td>    6.559</td> <td> 0.000</td> <td>    0.012     0.023</td>\n",
        "</tr>\n",
        "</table>\n",
        "<table class=\"simpletable\">\n",
        "<tr>\n",
        "  <th>Omnibus:</th>       <td>1024.052</td> <th>  Durbin-Watson:     </th> <td>   1.618</td>\n",
        "</tr>\n",
        "<tr>\n",
        "  <th>Prob(Omnibus):</th>  <td> 0.000</td>  <th>  Jarque-Bera (JB):  </th> <td>3081.833</td>\n",
        "</tr>\n",
        "<tr>\n",
        "  <th>Skew:</th>           <td>-0.601</td>  <th>  Prob(JB):          </th> <td>    0.00</td>\n",
        "</tr>\n",
        "<tr>\n",
        "  <th>Kurtosis:</th>       <td> 5.596</td>  <th>  Cond. No.          </th> <td>    118.</td>\n",
        "</tr>\n",
        "</table>"
       ],
       "metadata": {},
       "output_type": "pyout",
       "prompt_number": 6,
       "text": [
        "<class 'statsmodels.iolib.summary.Summary'>\n",
        "\"\"\"\n",
        "                            OLS Regression Results                            \n",
        "==============================================================================\n",
        "Dep. Variable:            totalwgt_lb   R-squared:                       0.005\n",
        "Model:                            OLS   Adj. R-squared:                  0.005\n",
        "Method:                 Least Squares   F-statistic:                     43.02\n",
        "Date:                Fri, 23 Jan 2015   Prob (F-statistic):           5.72e-11\n",
        "Time:                        15:56:22   Log-Likelihood:                -15897.\n",
        "No. Observations:                9038   AIC:                         3.180e+04\n",
        "Df Residuals:                    9036   BIC:                         3.181e+04\n",
        "Df Model:                           1                                         \n",
        "Covariance Type:            nonrobust                                         \n",
        "==============================================================================\n",
        "                 coef    std err          t      P>|t|      [95.0% Conf. Int.]\n",
        "------------------------------------------------------------------------------\n",
        "Intercept      6.8304      0.068    100.470      0.000         6.697     6.964\n",
        "agepreg        0.0175      0.003      6.559      0.000         0.012     0.023\n",
        "==============================================================================\n",
        "Omnibus:                     1024.052   Durbin-Watson:                   1.618\n",
        "Prob(Omnibus):                  0.000   Jarque-Bera (JB):             3081.833\n",
        "Skew:                          -0.601   Prob(JB):                         0.00\n",
        "Kurtosis:                       5.596   Cond. No.                         118.\n",
        "==============================================================================\n",
        "\n",
        "Warnings:\n",
        "[1] Standard Errors assume that the covariance matrix of the errors is correctly specified.\n",
        "\"\"\""
       ]
      }
     ],
     "prompt_number": 6
    },
    {
     "cell_type": "code",
     "collapsed": false,
     "input": [
      "regression.SummarizeResults(results)"
     ],
     "language": "python",
     "metadata": {},
     "outputs": [
      {
       "output_type": "stream",
       "stream": "stdout",
       "text": [
        "Intercept   6.83   (0)\n",
        "agepreg   0.0175   (5.72e-11)\n",
        "R^2 0.004738\n",
        "Std(ys) 1.408\n",
        "Std(res) 1.405\n"
       ]
      }
     ],
     "prompt_number": 7
    },
    {
     "cell_type": "code",
     "collapsed": false,
     "input": [
      "results.params"
     ],
     "language": "python",
     "metadata": {},
     "outputs": [
      {
       "metadata": {},
       "output_type": "pyout",
       "prompt_number": 8,
       "text": [
        "Intercept    6.830397\n",
        "agepreg      0.017454\n",
        "dtype: float64"
       ]
      }
     ],
     "prompt_number": 8
    },
    {
     "cell_type": "code",
     "collapsed": false,
     "input": [
      "type(results.params)"
     ],
     "language": "python",
     "metadata": {},
     "outputs": [
      {
       "metadata": {},
       "output_type": "pyout",
       "prompt_number": 9,
       "text": [
        "pandas.core.series.Series"
       ]
      }
     ],
     "prompt_number": 9
    },
    {
     "cell_type": "code",
     "collapsed": false,
     "input": [
      "diff_weight = firsts.totalwgt_lb.mean() - others.totalwgt_lb.mean()\n",
      "diff_weight"
     ],
     "language": "python",
     "metadata": {},
     "outputs": [
      {
       "metadata": {},
       "output_type": "pyout",
       "prompt_number": 10,
       "text": [
        "-0.12476118453549034"
       ]
      }
     ],
     "prompt_number": 10
    },
    {
     "cell_type": "code",
     "collapsed": false,
     "input": [
      "diff_age = firsts.agepreg.mean() - others.agepreg.mean()\n",
      "diff_age"
     ],
     "language": "python",
     "metadata": {},
     "outputs": [
      {
       "metadata": {},
       "output_type": "pyout",
       "prompt_number": 11,
       "text": [
        "-3.5864347661501519"
       ]
      }
     ],
     "prompt_number": 11
    },
    {
     "cell_type": "code",
     "collapsed": false,
     "input": [
      "results = smf.ols('totalwgt_lb ~ agepreg', data=live).fit()\n",
      "slope = results.params['agepreg']\n",
      "slope"
     ],
     "language": "python",
     "metadata": {},
     "outputs": [
      {
       "metadata": {},
       "output_type": "pyout",
       "prompt_number": 12,
       "text": [
        "0.017453851471802808"
       ]
      }
     ],
     "prompt_number": 12
    },
    {
     "cell_type": "code",
     "collapsed": false,
     "input": [
      "expected_diff_weight_due_to_age = slope * diff_age\n",
      "expected_diff_weight_due_to_age"
     ],
     "language": "python",
     "metadata": {},
     "outputs": [
      {
       "metadata": {},
       "output_type": "pyout",
       "prompt_number": 13,
       "text": [
        "-0.062597099721694582"
       ]
      }
     ],
     "prompt_number": 13
    },
    {
     "cell_type": "code",
     "collapsed": false,
     "input": [
      "live['isfirst'] = live.birthord == 1  # create new bool col 'isfirst'"
     ],
     "language": "python",
     "metadata": {},
     "outputs": [],
     "prompt_number": 14
    },
    {
     "cell_type": "code",
     "collapsed": false,
     "input": [
      "formula = 'totalwgt_lb ~ isfirst'\n",
      "results = smf.ols(formula, data=live).fit()"
     ],
     "language": "python",
     "metadata": {},
     "outputs": [],
     "prompt_number": 15
    },
    {
     "cell_type": "code",
     "collapsed": false,
     "input": [
      "regression.SummarizeResults(results)"
     ],
     "language": "python",
     "metadata": {},
     "outputs": [
      {
       "output_type": "stream",
       "stream": "stdout",
       "text": [
        "Intercept   7.33   (0)\n",
        "isfirst[T.True]   -0.125   (2.55e-05)\n",
        "R^2 0.00196\n",
        "Std(ys) 1.408\n",
        "Std(res) 1.407\n"
       ]
      }
     ],
     "prompt_number": 16
    },
    {
     "cell_type": "code",
     "collapsed": false,
     "input": [
      "formula = 'totalwgt_lb ~ isfirst + agepreg'\n",
      "results = smf.ols(formula, data=live).fit()\n",
      "regression.SummarizeResults(results)"
     ],
     "language": "python",
     "metadata": {},
     "outputs": [
      {
       "output_type": "stream",
       "stream": "stdout",
       "text": [
        "Intercept   6.91   (0)\n",
        "isfirst[T.True]   -0.0698   (0.0253)\n",
        "agepreg   0.0154   (3.93e-08)\n",
        "R^2 0.005289\n",
        "Std(ys) 1.408\n",
        "Std(res) 1.405\n"
       ]
      }
     ],
     "prompt_number": 17
    },
    {
     "cell_type": "code",
     "collapsed": false,
     "input": [
      "live['agepreg2'] = live.agepreg**2"
     ],
     "language": "python",
     "metadata": {},
     "outputs": [],
     "prompt_number": 18
    },
    {
     "cell_type": "code",
     "collapsed": false,
     "input": [
      "formula = 'totalwgt_lb ~ isfirst + agepreg + agepreg2'\n",
      "results = smf.ols(formula, data=live).fit()\n",
      "regression.SummarizeResults(results)"
     ],
     "language": "python",
     "metadata": {},
     "outputs": [
      {
       "output_type": "stream",
       "stream": "stdout",
       "text": [
        "Intercept   5.69   (1.38e-86)\n",
        "isfirst[T.True]   -0.0504   (0.109)\n",
        "agepreg   0.112   (3.23e-07)\n",
        "agepreg2   -0.00185   (8.8e-06)\n",
        "R^2 0.007462\n",
        "Std(ys) 1.408\n",
        "Std(res) 1.403\n"
       ]
      }
     ],
     "prompt_number": 19
    },
    {
     "cell_type": "code",
     "collapsed": false,
     "input": [
      "live = live[live.prglngth > 30]"
     ],
     "language": "python",
     "metadata": {},
     "outputs": [],
     "prompt_number": 20
    },
    {
     "cell_type": "code",
     "collapsed": false,
     "input": [
      "resp = chap01soln.ReadFemResp()"
     ],
     "language": "python",
     "metadata": {},
     "outputs": [],
     "prompt_number": 21
    },
    {
     "cell_type": "code",
     "collapsed": false,
     "input": [
      "resp.index = resp.caseid"
     ],
     "language": "python",
     "metadata": {},
     "outputs": [],
     "prompt_number": 22
    },
    {
     "cell_type": "code",
     "collapsed": false,
     "input": [
      "join = live.join(resp, on='caseid', rsuffix='_r')"
     ],
     "language": "python",
     "metadata": {},
     "outputs": [],
     "prompt_number": 23
    },
    {
     "cell_type": "code",
     "collapsed": false,
     "input": [
      "join.columns"
     ],
     "language": "python",
     "metadata": {},
     "outputs": [
      {
       "metadata": {},
       "output_type": "pyout",
       "prompt_number": 24,
       "text": [
        "Index([u'caseid', u'pregordr', u'howpreg_n', u'howpreg_p', u'moscurrp', u'nowprgdk', u'pregend1', u'pregend2', u'nbrnaliv', u'multbrth', u'cmotpreg', u'prgoutcome', u'cmprgend', u'flgdkmo1', u'cmprgbeg', u'ageatend', u'hpageend', u'gestasun_m', u'gestasun_w', u'wksgest', u'mosgest', u'dk1gest', u'dk2gest', u'dk3gest', u'bpa_bdscheck1', u'bpa_bdscheck2', u'bpa_bdscheck3', u'babysex', u'birthwgt_lb', u'birthwgt_oz', u'lobthwgt', u'babysex2', u'birthwgt_lb2', u'birthwgt_oz2', u'lobthwgt2', u'babysex3', u'birthwgt_lb3', u'birthwgt_oz3', u'lobthwgt3', u'cmbabdob', u'kidage', u'hpagelb', u'birthplc', u'paybirth1', u'paybirth2', u'paybirth3', u'knewpreg', u'trimestr', u'ltrimest', u'priorsmk', u'postsmks', u'npostsmk', u'getprena', u'bgnprena', u'pnctrim', u'lpnctri', u'workpreg', u'workborn', u'didwork', u'matweeks', u'weeksdk', u'matleave', u'matchfound', u'livehere', u'alivenow', u'cmkidied', u'cmkidlft', u'lastage', u'wherenow', u'legagree', u'parenend', u'anynurse', u'fedsolid', u'frsteatd_n', u'frsteatd_p', u'frsteatd', u'quitnurs', u'ageqtnur_n', u'ageqtnur_p', u'ageqtnur', u'matchfound2', u'livehere2', u'alivenow2', u'cmkidied2', u'cmkidlft2', u'lastage2', u'wherenow2', u'legagree2', u'parenend2', u'anynurse2', u'fedsolid2', u'frsteatd_n2', u'frsteatd_p2', u'frsteatd2', u'quitnurs2', u'ageqtnur_n2', u'ageqtnur_p2', u'ageqtnur2', u'matchfound3', u'livehere3', ...], dtype='object')"
       ]
      }
     ],
     "prompt_number": 24
    },
    {
     "cell_type": "code",
     "collapsed": false,
     "input": [
      "model = smf.ols('totalwgt_lb ~ agepreg + caseid', data=join)\n",
      "regression.SummarizeResults(model.fit())"
     ],
     "language": "python",
     "metadata": {},
     "outputs": [
      {
       "output_type": "stream",
       "stream": "stdout",
       "text": [
        "Intercept   6.96   (0)\n",
        "agepreg   0.0167   (7.65e-12)\n",
        "caseid   -1.91e-06   (0.605)\n",
        "R^2 0.005358\n",
        "Std(ys) 1.271\n",
        "Std(res) 1.268\n"
       ]
      }
     ],
     "prompt_number": 25
    },
    {
     "cell_type": "code",
     "collapsed": false,
     "input": [
      "t = []\n",
      "for name in join.columns:\n",
      "    try:\n",
      "        if join[name].var() < 1e-7:   # regression is unreliable if a feature has low variability\n",
      "            continue\n",
      "         \n",
      "        formula = ('totalwgt_lb ~ agepreg + ' + name).encode('ascii')\n",
      "        model = smf.ols(formula, data=join)\n",
      "        if model.nobs < len(join)/2:  # 'nobs' is number of obs; variables with many NaNs aren't good candidates for prediction\n",
      "            continue\n",
      "            \n",
      "        results = model.fit()\n",
      "    except (ValueError, TypeError):\n",
      "        continue\n",
      "            \n",
      "    t.append((results.rsquared, name))"
     ],
     "language": "python",
     "metadata": {},
     "outputs": [],
     "prompt_number": 26
    },
    {
     "cell_type": "code",
     "collapsed": false,
     "input": [
      "regression.MiningReport(t)"
     ],
     "language": "python",
     "metadata": {},
     "outputs": [
      {
       "output_type": "stream",
       "stream": "stdout",
       "text": [
        "totalwgt_lb 1.0\n",
        "birthwgt_lb 0.949812730598 BD-3 BIRTHWEIGHT IN POUNDS - 1ST BABY FROM THIS PREGNANCY\n",
        "lbw1 0.300824078447 LOW BIRTHWEIGHT - BABY 1\n",
        "prglngth 0.130125194886 DURATION OF COMPLETED PREGNANCY IN WEEKS\n",
        "wksgest 0.123400413634 GESTATIONAL LENGTH OF COMPLETED PREGNANCY (IN WEEKS)\n",
        "agecon 0.102031499282 AGE AT TIME OF CONCEPTION\n",
        "mosgest 0.0271442746396 GESTATIONAL LENGTH OF COMPLETED PREGNANCY (IN MONTHS)\n",
        "babysex 0.0185509252939 BD-2 SEX OF 1ST LIVEBORN BABY FROM THIS PREGNANCY\n",
        "race_r 0.0161995035863 RACE\n",
        "race 0.0161995035863 RACE\n",
        "nbrnaliv 0.0160177527098 BC-2 NUMBER OF BABIES BORN ALIVE FROM THIS PREGNANCY\n",
        "paydu 0.0140037955781 IB-10 CURRENT LIVING QUARTERS OWNED/RENTED, ETC\n",
        "rmarout03 0.0134300664657 INFORMAL MARITAL STATUS WHEN PREGNANCY ENDED - 3RD\n",
        "birthwgt_oz 0.0131024576157 BD-3 BIRTHWEIGHT IN OUNCES - 1ST BABY FROM THIS PREGNANCY\n",
        "anynurse 0.0125290225418 BH-1 WHETHER R BREASTFED THIS CHILD AT ALL - 1ST FROM THIS PREG\n",
        "bfeedwks 0.0121936884045 DURATION OF BREASTFEEDING IN WEEKS\n",
        "totincr 0.0118700690312 TOTAL INCOME OF R'S FAMILY\n",
        "marout03 0.0118078019944 FORMAL MARITAL STATUS WHEN PREGNANCY ENDED - 3RD\n",
        "marcon03 0.0117525993544 FORMAL MARITAL STATUS WHEN PREGNANCY BEGAN - 3RD\n",
        "cebow 0.0114377709196 NUMBER OF CHILDREN BORN OUT OF WEDLOCK\n",
        "rmarout01 0.0114077371386 INFORMAL MARITAL STATUS WHEN PREGNANCY ENDED - 1ST\n",
        "rmarout6 0.0113541384728 INFORMAL MARITAL STATUS AT PREGNANCY OUTCOME - 6 CATEGORIES\n",
        "marout01 0.0112693572468 FORMAL MARITAL STATUS WHEN PREGNANCY ENDED - 1ST\n",
        "hisprace_r 0.011238349302 RACE AND HISPANIC ORIGIN\n",
        "hisprace 0.011238349302 RACE AND HISPANIC ORIGIN\n",
        "mar1diss 0.0109615635907 MONTHS BTW/1ST MARRIAGE & DISSOLUTION (OR INTERVIEW)\n",
        "fmarcon5 0.0106049646843 FORMAL MARITAL STATUS AT CONCEPTION - 5 CATEGORIES\n",
        "rmarout02 0.0105469132066 INFORMAL MARITAL STATUS WHEN PREGNANCY ENDED - 2ND\n",
        "marcon02 0.0104814017955 FORMAL MARITAL STATUS WHEN PREGNANCY BEGAN - 2ND\n",
        "fmarout5 0.0104616913674 FORMAL MARITAL STATUS AT PREGNANCY OUTCOME\n"
       ]
      }
     ],
     "prompt_number": 27
    },
    {
     "cell_type": "code",
     "collapsed": false,
     "input": [
      "live, firsts, others = first.MakeFrames()"
     ],
     "language": "python",
     "metadata": {},
     "outputs": [],
     "prompt_number": 28
    },
    {
     "cell_type": "code",
     "collapsed": false,
     "input": [
      "regression.PredictBirthWeight(live)"
     ],
     "language": "python",
     "metadata": {},
     "outputs": [
      {
       "output_type": "stream",
       "stream": "stdout",
       "text": [
        "totalwgt_lb 1.0\n",
        "birthwgt_lb 0.949812730598 BD-3 BIRTHWEIGHT IN POUNDS - 1ST BABY FROM THIS PREGNANCY\n",
        "lbw1 0.300824078447 LOW BIRTHWEIGHT - BABY 1\n",
        "prglngth 0.130125194886 DURATION OF COMPLETED PREGNANCY IN WEEKS\n",
        "wksgest 0.123400413634 GESTATIONAL LENGTH OF COMPLETED PREGNANCY (IN WEEKS)\n",
        "agecon 0.102031499282 AGE AT TIME OF CONCEPTION\n",
        "mosgest 0.0271442746396 GESTATIONAL LENGTH OF COMPLETED PREGNANCY (IN MONTHS)\n",
        "babysex 0.0185509252939 BD-2 SEX OF 1ST LIVEBORN BABY FROM THIS PREGNANCY\n",
        "race_r 0.0161995035863 RACE\n",
        "race 0.0161995035863 RACE\n",
        "nbrnaliv 0.0160177527098 BC-2 NUMBER OF BABIES BORN ALIVE FROM THIS PREGNANCY\n",
        "paydu 0.0140037955781 IB-10 CURRENT LIVING QUARTERS OWNED/RENTED, ETC\n",
        "rmarout03 0.0134300664657 INFORMAL MARITAL STATUS WHEN PREGNANCY ENDED - 3RD\n",
        "birthwgt_oz 0.0131024576157 BD-3 BIRTHWEIGHT IN OUNCES - 1ST BABY FROM THIS PREGNANCY\n",
        "anynurse 0.0125290225418 BH-1 WHETHER R BREASTFED THIS CHILD AT ALL - 1ST FROM THIS PREG\n",
        "bfeedwks 0.0121936884045 DURATION OF BREASTFEEDING IN WEEKS\n",
        "totincr 0.0118700690312 TOTAL INCOME OF R'S FAMILY\n",
        "marout03 0.0118078019944 FORMAL MARITAL STATUS WHEN PREGNANCY ENDED - 3RD\n",
        "marcon03 0.0117525993544 FORMAL MARITAL STATUS WHEN PREGNANCY BEGAN - 3RD\n",
        "cebow 0.0114377709196 NUMBER OF CHILDREN BORN OUT OF WEDLOCK\n",
        "rmarout01 0.0114077371386 INFORMAL MARITAL STATUS WHEN PREGNANCY ENDED - 1ST\n",
        "rmarout6 0.0113541384728 INFORMAL MARITAL STATUS AT PREGNANCY OUTCOME - 6 CATEGORIES\n",
        "marout01 0.0112693572468 FORMAL MARITAL STATUS WHEN PREGNANCY ENDED - 1ST\n",
        "hisprace_r 0.011238349302 RACE AND HISPANIC ORIGIN\n",
        "hisprace 0.011238349302 RACE AND HISPANIC ORIGIN\n",
        "mar1diss 0.0109615635907 MONTHS BTW/1ST MARRIAGE & DISSOLUTION (OR INTERVIEW)\n",
        "fmarcon5 0.0106049646843 FORMAL MARITAL STATUS AT CONCEPTION - 5 CATEGORIES\n",
        "rmarout02 0.0105469132066 INFORMAL MARITAL STATUS WHEN PREGNANCY ENDED - 2ND\n",
        "marcon02 0.0104814017955 FORMAL MARITAL STATUS WHEN PREGNANCY BEGAN - 2ND\n",
        "fmarout5 0.0104616913674 FORMAL MARITAL STATUS AT PREGNANCY OUTCOME\n",
        "Intercept   6.63   (0)"
       ]
      },
      {
       "output_type": "stream",
       "stream": "stdout",
       "text": [
        "\n",
        "C(race)[T.2]   0.357   (5.43e-29)\n",
        "C(race)[T.3]   0.266   (2.33e-07)\n",
        "babysex == 1[T.True]   0.295   (5.39e-29)\n",
        "nbrnaliv > 1[T.True]   -1.38   (5.1e-37)\n",
        "paydu == 1[T.True]   0.12   (0.000114)\n",
        "agepreg   0.00741   (0.0035)\n",
        "totincr   0.0122   (0.00188)\n",
        "R^2 0.05999\n",
        "Std(ys) 1.271\n",
        "Std(res) 1.232\n"
       ]
      }
     ],
     "prompt_number": 29
    },
    {
     "cell_type": "code",
     "collapsed": false,
     "input": [
      "formula = ('totalwgt_lb ~ agepreg + C(race) + babysex==1 + '\n",
      "           'nbrnaliv>1 + paydu==1 + totincr')\n",
      "results = smf.ols(formula, data=join).fit()"
     ],
     "language": "python",
     "metadata": {},
     "outputs": [],
     "prompt_number": 30
    },
    {
     "cell_type": "code",
     "collapsed": false,
     "input": [
      "regression.SummarizeResults(results)"
     ],
     "language": "python",
     "metadata": {},
     "outputs": [
      {
       "output_type": "stream",
       "stream": "stdout",
       "text": [
        "Intercept   6.63   (0)\n",
        "C(race)[T.2]   0.357   (5.43e-29)\n",
        "C(race)[T.3]   0.266   (2.33e-07)\n",
        "babysex == 1[T.True]   0.295   (5.39e-29)\n",
        "nbrnaliv > 1[T.True]   -1.38   (5.1e-37)\n",
        "paydu == 1[T.True]   0.12   (0.000114)\n",
        "agepreg   0.00741   (0.0035)\n",
        "totincr   0.0122   (0.00188)\n",
        "R^2 0.05999\n",
        "Std(ys) 1.271\n",
        "Std(res) 1.232\n"
       ]
      }
     ],
     "prompt_number": 31
    },
    {
     "cell_type": "code",
     "collapsed": false,
     "input": [
      "y = np.array([0, 1, 0, 1])\n",
      "x1 = np.array([0, 0, 0, 1])\n",
      "x2 = np.array([0, 1, 1, 1])"
     ],
     "language": "python",
     "metadata": {},
     "outputs": [],
     "prompt_number": 32
    },
    {
     "cell_type": "code",
     "collapsed": false,
     "input": [
      "beta = [-1.5, 2.8, 1.1]"
     ],
     "language": "python",
     "metadata": {},
     "outputs": [],
     "prompt_number": 33
    },
    {
     "cell_type": "code",
     "collapsed": false,
     "input": [
      "log_o = beta[0] + beta[1] * x1 + beta[2] * x2\n",
      "log_o"
     ],
     "language": "python",
     "metadata": {},
     "outputs": [
      {
       "metadata": {},
       "output_type": "pyout",
       "prompt_number": 35,
       "text": [
        "array([-1.5, -0.4, -0.4,  2.4])"
       ]
      }
     ],
     "prompt_number": 35
    },
    {
     "cell_type": "code",
     "collapsed": false,
     "input": [
      "o = np.exp(log_o)\n",
      "o"
     ],
     "language": "python",
     "metadata": {},
     "outputs": [
      {
       "metadata": {},
       "output_type": "pyout",
       "prompt_number": 37,
       "text": [
        "array([  0.22313016,   0.67032005,   0.67032005,  11.02317638])"
       ]
      }
     ],
     "prompt_number": 37
    },
    {
     "cell_type": "code",
     "collapsed": false,
     "input": [
      "p = o / (o+1)\n",
      "p"
     ],
     "language": "python",
     "metadata": {},
     "outputs": [
      {
       "metadata": {},
       "output_type": "pyout",
       "prompt_number": 38,
       "text": [
        "array([ 0.18242552,  0.40131234,  0.40131234,  0.9168273 ])"
       ]
      }
     ],
     "prompt_number": 38
    },
    {
     "cell_type": "code",
     "collapsed": false,
     "input": [
      "likelihoods = y * p + (1-y) * (1-p)\n",
      "likelihoods"
     ],
     "language": "python",
     "metadata": {},
     "outputs": [
      {
       "metadata": {},
       "output_type": "pyout",
       "prompt_number": 40,
       "text": [
        "array([ 0.81757448,  0.40131234,  0.59868766,  0.9168273 ])"
       ]
      }
     ],
     "prompt_number": 40
    },
    {
     "cell_type": "code",
     "collapsed": false,
     "input": [
      "likelihood = np.prod(likelihoods)\n",
      "likelihood"
     ],
     "language": "python",
     "metadata": {},
     "outputs": [
      {
       "metadata": {},
       "output_type": "pyout",
       "prompt_number": 41,
       "text": [
        "0.18009335296730339"
       ]
      }
     ],
     "prompt_number": 41
    },
    {
     "cell_type": "code",
     "collapsed": false,
     "input": [
      "df = live[live.prglngth > 30]"
     ],
     "language": "python",
     "metadata": {},
     "outputs": [],
     "prompt_number": 42
    },
    {
     "cell_type": "code",
     "collapsed": false,
     "input": [
      "df['boy'] = (df.babysex == 1).astype(int)"
     ],
     "language": "python",
     "metadata": {},
     "outputs": [],
     "prompt_number": 44
    },
    {
     "cell_type": "code",
     "collapsed": false,
     "input": [
      "model = smf.logit('boy ~ agepreg', data=df)\n",
      "results = model.fit()\n",
      "regression.SummarizeResults(results)"
     ],
     "language": "python",
     "metadata": {},
     "outputs": [
      {
       "output_type": "stream",
       "stream": "stdout",
       "text": [
        "Optimization terminated successfully.\n",
        "         Current function value: 0.693015\n",
        "         Iterations 3\n",
        "Intercept   0.00579   (0.953)\n",
        "agepreg   0.00105   (0.783)\n",
        "R^2 6.144e-06\n"
       ]
      }
     ],
     "prompt_number": 49
    },
    {
     "cell_type": "code",
     "collapsed": false,
     "input": [
      "endog = pandas.DataFrame(model.endog, columns=[model.endog_names])\n",
      "exog = pandas.DataFrame(model.exog, columns=model.exog_names)"
     ],
     "language": "python",
     "metadata": {},
     "outputs": [],
     "prompt_number": 52
    },
    {
     "cell_type": "code",
     "collapsed": false,
     "input": [
      "formula = 'boy ~ agepreg + hpagelb + birthord + C(race)'\n",
      "model = smf.logit(formula, data=df)\n",
      "results = model.fit()\n",
      "regression.SummarizeResults(results)"
     ],
     "language": "python",
     "metadata": {},
     "outputs": [
      {
       "output_type": "stream",
       "stream": "stdout",
       "text": [
        "Optimization terminated successfully.\n",
        "         Current function value: 0.692944\n",
        "         Iterations 3\n",
        "Intercept   -0.0301   (0.772)\n",
        "C(race)[T.2]   -0.0224   (0.66)\n",
        "C(race)[T.3]   -0.000457   (0.996)\n",
        "agepreg   -0.00267   (0.629)\n",
        "hpagelb   0.0047   (0.266)\n",
        "birthord   0.00501   (0.821)\n",
        "R^2 0.000144\n"
       ]
      }
     ],
     "prompt_number": 63
    },
    {
     "cell_type": "code",
     "collapsed": false,
     "input": [
      "endog = pandas.DataFrame(model.endog, columns=[model.endog_names])\n",
      "exog = pandas.DataFrame(model.exog, columns=model.exog_names)"
     ],
     "language": "python",
     "metadata": {},
     "outputs": [],
     "prompt_number": 64
    },
    {
     "cell_type": "code",
     "collapsed": false,
     "input": [
      "actual = endog['boy']\n",
      "baseline = actual.mean()\n",
      "baseline"
     ],
     "language": "python",
     "metadata": {},
     "outputs": [
      {
       "metadata": {},
       "output_type": "pyout",
       "prompt_number": 65,
       "text": [
        "0.50717376451833296"
       ]
      }
     ],
     "prompt_number": 65
    },
    {
     "cell_type": "code",
     "collapsed": false,
     "input": [
      "predict = (results.predict() >= 0.5)\n",
      "true_pos = predict * actual\n",
      "true_neg = (1 - predict) * (1 - actual)"
     ],
     "language": "python",
     "metadata": {},
     "outputs": [],
     "prompt_number": 66
    },
    {
     "cell_type": "code",
     "collapsed": false,
     "input": [
      "accuracy = (sum(true_pos) + sum(true_neg)) / len(actual)\n",
      "accuracy"
     ],
     "language": "python",
     "metadata": {},
     "outputs": [
      {
       "metadata": {},
       "output_type": "pyout",
       "prompt_number": 67,
       "text": [
        "0.51150079708494645"
       ]
      }
     ],
     "prompt_number": 67
    },
    {
     "cell_type": "code",
     "collapsed": false,
     "input": [
      "columns = ['agepreg', 'hpagelb', 'birthord', 'race']\n",
      "new = pandas.DataFrame([[35, 39, 3, 2]], columns=columns)\n",
      "y = results.predict(new)\n",
      "y"
     ],
     "language": "python",
     "metadata": {},
     "outputs": [
      {
       "metadata": {},
       "output_type": "pyout",
       "prompt_number": 69,
       "text": [
        "array([ 0.5130905])"
       ]
      }
     ],
     "prompt_number": 69
    },
    {
     "cell_type": "code",
     "collapsed": false,
     "input": [],
     "language": "python",
     "metadata": {},
     "outputs": []
    }
   ],
   "metadata": {}
  }
 ]
}