{
 "metadata": {
  "name": "",
  "signature": "sha256:18dc394d202703a4ded5b2d2e031bd28c403f50e0b91d9a64fe1c9fafc99daca"
 },
 "nbformat": 3,
 "nbformat_minor": 0,
 "worksheets": [
  {
   "cells": [
    {
     "cell_type": "code",
     "collapsed": false,
     "input": [
      "import thinkstats2\n",
      "import nsfg\n",
      "import first\n",
      "import thinkplot"
     ],
     "language": "python",
     "metadata": {},
     "outputs": [],
     "prompt_number": 36
    },
    {
     "cell_type": "code",
     "collapsed": false,
     "input": [
      "class CoinTest(thinkstats2.HypothesisTest):\n",
      "    \n",
      "    def TestStatistic(self, data):\n",
      "        heads, tails = data\n",
      "        test_stat = abs(heads - tails)\n",
      "        return test_stat\n",
      "    \n",
      "    def RunModel(self):\n",
      "        heads, tails = self.data\n",
      "        n = heads + tails\n",
      "        sample = [random.choice(['H','T']) for _ in range(n)]\n",
      "        hist = thinkstats2.Hist(sample)\n",
      "        data = hist['H'], hist['T']\n",
      "        return data"
     ],
     "language": "python",
     "metadata": {},
     "outputs": [],
     "prompt_number": 11
    },
    {
     "cell_type": "code",
     "collapsed": false,
     "input": [
      "ct = CoinTest((140, 110))\n",
      "pvalue = ct.PValue()\n",
      "pvalue"
     ],
     "language": "python",
     "metadata": {},
     "outputs": [
      {
       "metadata": {},
       "output_type": "pyout",
       "prompt_number": 21,
       "text": [
        "0.074"
       ]
      }
     ],
     "prompt_number": 21
    },
    {
     "cell_type": "code",
     "collapsed": false,
     "input": [
      "ct.PlotCdf()\n",
      "thinkplot.Show(xlabel='test statistic',ylabel='CDF')"
     ],
     "language": "python",
     "metadata": {},
     "outputs": [
      {
       "metadata": {},
       "output_type": "display_data",
       "png": "[encoded data removed]",
       "text": [
        "<matplotlib.figure.Figure at 0x113c93fd0>"
       ]
      },
      {
       "metadata": {},
       "output_type": "display_data",
       "text": [
        "<matplotlib.figure.Figure at 0x113d9d710>"
       ]
      }
     ],
     "prompt_number": 53
    },
    {
     "cell_type": "code",
     "collapsed": false,
     "input": [
      "class DiffMeansPermute(thinkstats2.HypothesisTest):\n",
      "    \n",
      "    def TestStatistic(self, data):\n",
      "        group1, group2 = data\n",
      "        test_stat = abs(group1.mean() - group2.mean())\n",
      "        return test_stat\n",
      "    \n",
      "    def MakeModel(self):\n",
      "        group1, group2 = self.data\n",
      "        self.n, self.m = len(group1), len(group2)\n",
      "        self.pool = np.hstack((group1, group2))\n",
      "        \n",
      "    def RunModel(self):\n",
      "        np.random.shuffle(self.pool)\n",
      "        data = self.pool[:self.n], self.pool[self.n:]\n",
      "        return data"
     ],
     "language": "python",
     "metadata": {},
     "outputs": [],
     "prompt_number": 24
    },
    {
     "cell_type": "code",
     "collapsed": false,
     "input": [
      "live, firsts, others = first.MakeFrames()"
     ],
     "language": "python",
     "metadata": {},
     "outputs": [],
     "prompt_number": 28
    },
    {
     "cell_type": "code",
     "collapsed": false,
     "input": [
      "prglngth_data = firsts.prglngth.values, others.prglngth.values"
     ],
     "language": "python",
     "metadata": {},
     "outputs": [],
     "prompt_number": 41
    },
    {
     "cell_type": "code",
     "collapsed": false,
     "input": [
      "print('firsts prglngth', firsts.prglngth.mean())\n",
      "print('others prglngth', others.prglngth.mean())\n",
      "print('diff', firsts.prglngth.mean() - others.prglngth.mean())"
     ],
     "language": "python",
     "metadata": {},
     "outputs": [
      {
       "output_type": "stream",
       "stream": "stdout",
       "text": [
        "('firsts prglngth', 38.600951733514613)\n",
        "('others prglngth', 38.522914466737063)\n",
        "('diff', 0.078037266777549519)\n"
       ]
      }
     ],
     "prompt_number": 58
    },
    {
     "cell_type": "code",
     "collapsed": false,
     "input": [
      "prglngth_ht = DiffMeansPermute(prglngth_data)"
     ],
     "language": "python",
     "metadata": {},
     "outputs": [],
     "prompt_number": 42
    },
    {
     "cell_type": "code",
     "collapsed": false,
     "input": [
      "pvalue = prglngth_ht.PValue()\n",
      "pvalue"
     ],
     "language": "python",
     "metadata": {},
     "outputs": [
      {
       "metadata": {},
       "output_type": "pyout",
       "prompt_number": 43,
       "text": [
        "0.187"
       ]
      }
     ],
     "prompt_number": 43
    },
    {
     "cell_type": "code",
     "collapsed": false,
     "input": [
      "prglngth_ht.PlotCdf()\n",
      "thinkplot.Show(xlabel='test statistic', ylabel='CDF')"
     ],
     "language": "python",
     "metadata": {},
     "outputs": [
      {
       "metadata": {},
       "output_type": "display_data",
       "png": "[encoded data removed]",
       "text": [
        "<matplotlib.figure.Figure at 0x113d05e50>"
       ]
      },
      {
       "metadata": {},
       "output_type": "display_data",
       "text": [
        "<matplotlib.figure.Figure at 0x113d0b390>"
       ]
      }
     ],
     "prompt_number": 44
    },
    {
     "cell_type": "code",
     "collapsed": false,
     "input": [
      "totalwgt_data = firsts.totalwgt_lb.values, others.totalwgt_lb.values"
     ],
     "language": "python",
     "metadata": {},
     "outputs": [],
     "prompt_number": 47
    },
    {
     "cell_type": "code",
     "collapsed": false,
     "input": [
      "print('firsts prglngth', firsts.totalwgt_lb.mean())\n",
      "print('others prglngth', others.totalwgt_lb.mean())\n",
      "print('diff', firsts.totalwgt_lb.mean() - others.totalwgt_lb.mean())"
     ],
     "language": "python",
     "metadata": {},
     "outputs": [
      {
       "output_type": "stream",
       "stream": "stdout",
       "text": [
        "('firsts prglngth', 7.201094430437772)\n",
        "('others prglngth', 7.3258556149732623)\n",
        "('diff', -0.12476118453549034)\n"
       ]
      }
     ],
     "prompt_number": 59
    },
    {
     "cell_type": "code",
     "collapsed": false,
     "input": [
      "totalwgt_ht = DiffMeansPermute(totalwgt_data)"
     ],
     "language": "python",
     "metadata": {},
     "outputs": [],
     "prompt_number": 48
    },
    {
     "cell_type": "code",
     "collapsed": false,
     "input": [
      "pvalue = totalwgt_ht.PValue()\n",
      "pvalue"
     ],
     "language": "python",
     "metadata": {},
     "outputs": [
      {
       "metadata": {},
       "output_type": "pyout",
       "prompt_number": 50,
       "text": [
        "0.0"
       ]
      }
     ],
     "prompt_number": 50
    },
    {
     "cell_type": "code",
     "collapsed": false,
     "input": [
      "totalwgt_ht.PlotCdf()\n",
      "thinkplot.Show(xlabel='test statistic',ylabel='CDF')"
     ],
     "language": "python",
     "metadata": {},
     "outputs": [
      {
       "metadata": {},
       "output_type": "display_data",
       "png": "[encoded data removed]",
       "text": [
        "<matplotlib.figure.Figure at 0x113d8b610>"
       ]
      },
      {
       "metadata": {},
       "output_type": "display_data",
       "text": [
        "<matplotlib.figure.Figure at 0x113bef9d0>"
       ]
      }
     ],
     "prompt_number": 52
    },
    {
     "cell_type": "code",
     "collapsed": false,
     "input": [
      "class DiffMeansOneSided(DiffMeansPermute):\n",
      "    \n",
      "    def TestStatistic(self, data):\n",
      "        group1, group2 = data\n",
      "        test_stat = group1.mean() - group2.mean()\n",
      "        return test_stat"
     ],
     "language": "python",
     "metadata": {},
     "outputs": [],
     "prompt_number": 64
    },
    {
     "cell_type": "code",
     "collapsed": false,
     "input": [
      "prglngth_onesided_ht = DiffMeansOneSided(prglngth_data)\n",
      "pvalue_onesided = prglngth_onesided_ht.PValue()\n",
      "pvalue_onesided"
     ],
     "language": "python",
     "metadata": {},
     "outputs": [
      {
       "metadata": {},
       "output_type": "pyout",
       "prompt_number": 65,
       "text": [
        "0.089"
       ]
      }
     ],
     "prompt_number": 65
    },
    {
     "cell_type": "code",
     "collapsed": false,
     "input": [
      "prglngth_onesided_ht.PlotCdf()\n",
      "thinkplot.Show(xlabel='test statistic', ylabel='CDF')"
     ],
     "language": "python",
     "metadata": {},
     "outputs": [
      {
       "metadata": {},
       "output_type": "display_data",
       "png": "[encoded data removed]",
       "text": [
        "<matplotlib.figure.Figure at 0x113c994d0>"
       ]
      },
      {
       "metadata": {},
       "output_type": "display_data",
       "text": [
        "<matplotlib.figure.Figure at 0x113d1c750>"
       ]
      }
     ],
     "prompt_number": 66
    },
    {
     "cell_type": "code",
     "collapsed": false,
     "input": [
      "class DiffStdPermute(DiffMeansPermute):\n",
      "    \n",
      "    def TestStatistic(self, data):\n",
      "        group1, group2 = data\n",
      "        test_stat = group1.std() - group2.std()\n",
      "        return test_stat"
     ],
     "language": "python",
     "metadata": {},
     "outputs": [],
     "prompt_number": 67
    },
    {
     "cell_type": "code",
     "collapsed": false,
     "input": [
      "prglngth_onesided_std_ht = DiffStdPermute(prglngth_data)\n",
      "pvalue_onesided_std = prglngth_onesided_std_ht.PValue()\n",
      "pvalue_onesided_std"
     ],
     "language": "python",
     "metadata": {},
     "outputs": [
      {
       "metadata": {},
       "output_type": "pyout",
       "prompt_number": 74,
       "text": [
        "0.085"
       ]
      }
     ],
     "prompt_number": 74
    },
    {
     "cell_type": "code",
     "collapsed": false,
     "input": [
      "prglngth_onesided_std_ht.PlotCdf()\n",
      "thinkplot.Show(xlabel='test statistic', ylabel='CDF')"
     ],
     "language": "python",
     "metadata": {},
     "outputs": [
      {
       "metadata": {},
       "output_type": "display_data",
       "png": "[encoded data removed]",
       "text": [
        "<matplotlib.figure.Figure at 0x113d6ef90>"
       ]
      },
      {
       "metadata": {},
       "output_type": "display_data",
       "text": [
        "<matplotlib.figure.Figure at 0x113bf6bd0>"
       ]
      }
     ],
     "prompt_number": 75
    },
    {
     "cell_type": "code",
     "collapsed": false,
     "input": [
      "live = live.dropna(subset=['agepreg', 'totalwgt_lb'])\n",
      "data = live.agepreg.values, live.totalwgt_lb.values"
     ],
     "language": "python",
     "metadata": {},
     "outputs": [],
     "prompt_number": 76
    },
    {
     "cell_type": "code",
     "collapsed": false,
     "input": [
      "thinkstats2.Corr(live.agepreg, live.totalwgt_lb)"
     ],
     "language": "python",
     "metadata": {},
     "outputs": [
      {
       "metadata": {},
       "output_type": "pyout",
       "prompt_number": 80,
       "text": [
        "0.068833970354109056"
       ]
      }
     ],
     "prompt_number": 80
    },
    {
     "cell_type": "code",
     "collapsed": false,
     "input": [
      "class CorrelationPermute(thinkstats2.HypothesisTest):\n",
      "    \n",
      "    def TestStatistic(self, data):\n",
      "        xs, ys = data\n",
      "        test_stat = abs(thinkstats2.Corr(xs, ys))\n",
      "        return test_stat\n",
      "    \n",
      "    def RunModel(self):\n",
      "        xs, ys = self.data\n",
      "        xs = np.random.permutation(xs)\n",
      "        return xs, ys"
     ],
     "language": "python",
     "metadata": {},
     "outputs": [],
     "prompt_number": 83
    },
    {
     "cell_type": "code",
     "collapsed": false,
     "input": [
      "ht = CorrelationPermute(data)\n",
      "pvalue = ht.PValue()\n",
      "pvalue"
     ],
     "language": "python",
     "metadata": {},
     "outputs": [
      {
       "metadata": {},
       "output_type": "pyout",
       "prompt_number": 84,
       "text": [
        "0.0"
       ]
      }
     ],
     "prompt_number": 84
    },
    {
     "cell_type": "code",
     "collapsed": false,
     "input": [
      "ht.PlotCdf()\n",
      "thinkplot.Show(xlabel='test statistic', ylabel='CDF')"
     ],
     "language": "python",
     "metadata": {},
     "outputs": [
      {
       "metadata": {},
       "output_type": "display_data",
       "png": "[encoded data removed]",
       "text": [
        "<matplotlib.figure.Figure at 0x113c99c10>"
       ]
      },
      {
       "metadata": {},
       "output_type": "display_data",
       "text": [
        "<matplotlib.figure.Figure at 0x113bdc7d0>"
       ]
      }
     ],
     "prompt_number": 85
    },
    {
     "cell_type": "code",
     "collapsed": false,
     "input": [
      "class DiceTest(thinkstats2.HypothesisTest):\n",
      "    \n",
      "    def TestStatistic(self, data):\n",
      "        observed = data\n",
      "        n = sum(observed)\n",
      "        expected = np.ones(6) * n / 6\n",
      "        test_stat = sum(abs(observed - expected))\n",
      "        return test_stat\n",
      "    \n",
      "    def RunModel(self):\n",
      "        n = sum(self.data)\n",
      "        values = [1, 2, 3, 4, 5, 6]\n",
      "        rolls = np.random.choice(values, n, replace=True)\n",
      "        hist = thinkstats2.Hist(rolls)\n",
      "        freqs = hist.Freqs(values)\n",
      "        return freqs"
     ],
     "language": "python",
     "metadata": {},
     "outputs": [],
     "prompt_number": 86
    },
    {
     "cell_type": "code",
     "collapsed": false,
     "input": [
      "ht_dice = DiceTest([8, 9, 19, 5, 8, 11])"
     ],
     "language": "python",
     "metadata": {},
     "outputs": [],
     "prompt_number": 100
    },
    {
     "cell_type": "code",
     "collapsed": false,
     "input": [
      "ht_dice.PValue()"
     ],
     "language": "python",
     "metadata": {},
     "outputs": [
      {
       "metadata": {},
       "output_type": "pyout",
       "prompt_number": 101,
       "text": [
        "0.127"
       ]
      }
     ],
     "prompt_number": 101
    },
    {
     "cell_type": "code",
     "collapsed": false,
     "input": [
      "ht_dice.PlotCdf()"
     ],
     "language": "python",
     "metadata": {},
     "outputs": [
      {
       "metadata": {},
       "output_type": "display_data",
       "png": "[encoded data removed]",
       "text": [
        "<matplotlib.figure.Figure at 0x113c43d90>"
       ]
      }
     ],
     "prompt_number": 102
    },
    {
     "cell_type": "code",
     "collapsed": false,
     "input": [
      "n = sum([8, 9, 19, 5, 8, 11])\n",
      "n"
     ],
     "language": "python",
     "metadata": {},
     "outputs": [
      {
       "metadata": {},
       "output_type": "pyout",
       "prompt_number": 94,
       "text": [
        "60"
       ]
      }
     ],
     "prompt_number": 94
    },
    {
     "cell_type": "code",
     "collapsed": false,
     "input": [
      "np.ones(6) * n/6"
     ],
     "language": "python",
     "metadata": {},
     "outputs": [
      {
       "metadata": {},
       "output_type": "pyout",
       "prompt_number": 95,
       "text": [
        "array([ 10.,  10.,  10.,  10.,  10.,  10.])"
       ]
      }
     ],
     "prompt_number": 95
    },
    {
     "cell_type": "code",
     "collapsed": false,
     "input": [
      "[8, 9, 19, 5, 8, 11] - (np.ones(6) * n/6)"
     ],
     "language": "python",
     "metadata": {},
     "outputs": [
      {
       "metadata": {},
       "output_type": "pyout",
       "prompt_number": 96,
       "text": [
        "array([-2., -1.,  9., -5., -2.,  1.])"
       ]
      }
     ],
     "prompt_number": 96
    },
    {
     "cell_type": "code",
     "collapsed": false,
     "input": [
      "-2-1+9-5-2+1"
     ],
     "language": "python",
     "metadata": {},
     "outputs": [
      {
       "metadata": {},
       "output_type": "pyout",
       "prompt_number": 97,
       "text": [
        "0"
       ]
      }
     ],
     "prompt_number": 97
    },
    {
     "cell_type": "code",
     "collapsed": false,
     "input": [
      "2+1+9+5+2+1"
     ],
     "language": "python",
     "metadata": {},
     "outputs": [
      {
       "metadata": {},
       "output_type": "pyout",
       "prompt_number": 99,
       "text": [
        "20"
       ]
      }
     ],
     "prompt_number": 99
    },
    {
     "cell_type": "code",
     "collapsed": false,
     "input": [
      "class DiceChiTest(DiceTest):\n",
      "    \n",
      "    def TestStatistic(self, data):\n",
      "        observed = data\n",
      "        n = sum(observed)\n",
      "        expected = np.ones(6) * n / 6\n",
      "        test_stat = sum((observed - expected)**2 / expected)\n",
      "        return test_stat"
     ],
     "language": "python",
     "metadata": {},
     "outputs": [],
     "prompt_number": 103
    },
    {
     "cell_type": "code",
     "collapsed": false,
     "input": [
      "ht_chisq = DiceChiTest([8, 9, 19, 5, 8, 11])"
     ],
     "language": "python",
     "metadata": {},
     "outputs": [],
     "prompt_number": 104
    },
    {
     "cell_type": "code",
     "collapsed": false,
     "input": [
      "ht_chisq.PValue()"
     ],
     "language": "python",
     "metadata": {},
     "outputs": [
      {
       "metadata": {},
       "output_type": "pyout",
       "prompt_number": 105,
       "text": [
        "0.04"
       ]
      }
     ],
     "prompt_number": 105
    },
    {
     "cell_type": "code",
     "collapsed": false,
     "input": [
      "ht_chisq.PlotCdf()"
     ],
     "language": "python",
     "metadata": {},
     "outputs": [
      {
       "metadata": {},
       "output_type": "display_data",
       "png": "[encoded data removed]",
       "text": [
        "<matplotlib.figure.Figure at 0x112bedf10>"
       ]
      }
     ],
     "prompt_number": 106
    },
    {
     "cell_type": "code",
     "collapsed": false,
     "input": [
      "class PregLengthTest(thinkstats2.HypothesisTest):\n",
      "    \n",
      "    def MakeModel(self):\n",
      "        firsts, others = self.data\n",
      "        self.n = len(firsts)\n",
      "        self.pool = np.hstack((firsts, others))\n",
      "        \n",
      "        pmf = thinkstats2.Pmf(self.pool)\n",
      "        self.values = range(35, 44)\n",
      "        self.expected_probs = np.array(pmf.Probs(self.values))\n",
      "        \n",
      "    def RunModel(self):\n",
      "        np.random.shuffle(self.pool)\n",
      "        data = self.pool[:self.n], self.pool[self.n:]\n",
      "        return data\n",
      "    \n",
      "    def TestStatistic(self, data):\n",
      "        firsts, others = data\n",
      "        stat = self.ChiSquared(firsts) + self.ChiSquared(others)\n",
      "        return stat\n",
      "    \n",
      "    def ChiSquared(self, lengths):\n",
      "        hist = thinkstats2.Hist(lengths)\n",
      "        observed = np.array(hist.Freqs(self.values))\n",
      "        expected = self.expected_probs * len(lengths)\n",
      "        stat = sum((observed - expected)**2 / expected)\n",
      "        return stat"
     ],
     "language": "python",
     "metadata": {},
     "outputs": [],
     "prompt_number": 113
    },
    {
     "cell_type": "code",
     "collapsed": false,
     "input": [
      "ht = PregLengthTest(prglngth_data)"
     ],
     "language": "python",
     "metadata": {},
     "outputs": [],
     "prompt_number": 125
    },
    {
     "cell_type": "code",
     "collapsed": false,
     "input": [
      "ht.ChiSquared(prglngth_data[0])"
     ],
     "language": "python",
     "metadata": {},
     "outputs": [
      {
       "metadata": {},
       "output_type": "pyout",
       "prompt_number": 123,
       "text": [
        "52.537079057170516"
       ]
      }
     ],
     "prompt_number": 123
    },
    {
     "cell_type": "code",
     "collapsed": false,
     "input": [
      "ht.ChiSquared(prglngth_data[1])"
     ],
     "language": "python",
     "metadata": {},
     "outputs": [
      {
       "metadata": {},
       "output_type": "pyout",
       "prompt_number": 124,
       "text": [
        "48.96433577176213"
       ]
      }
     ],
     "prompt_number": 124
    },
    {
     "cell_type": "code",
     "collapsed": false,
     "input": [
      "ht.PValue()"
     ],
     "language": "python",
     "metadata": {},
     "outputs": [
      {
       "metadata": {},
       "output_type": "pyout",
       "prompt_number": 126,
       "text": [
        "0.0"
       ]
      }
     ],
     "prompt_number": 126
    },
    {
     "cell_type": "code",
     "collapsed": false,
     "input": [
      "ht.PlotCdf()"
     ],
     "language": "python",
     "metadata": {},
     "outputs": [
      {
       "metadata": {},
       "output_type": "display_data",
       "png": "[encoded data removed]",
       "text": [
        "<matplotlib.figure.Figure at 0x112bed350>"
       ]
      }
     ],
     "prompt_number": 127
    },
    {
     "cell_type": "code",
     "collapsed": false,
     "input": [],
     "language": "python",
     "metadata": {},
     "outputs": []
    }
   ],
   "metadata": {}
  }
 ]
}