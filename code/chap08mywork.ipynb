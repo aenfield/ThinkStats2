{
 "metadata": {
  "name": "",
  "signature": "sha256:eacb081ee9f2ad42c0f7c6a3e73915cc147345441e24347353332c9139a63027"
 },
 "nbformat": 3,
 "nbformat_minor": 0,
 "worksheets": [
  {
   "cells": [
    {
     "cell_type": "code",
     "collapsed": false,
     "input": [
      "x = [-0.441, 1.774, -0.101, -1.138, 2.975, -2.138]"
     ],
     "language": "python",
     "metadata": {},
     "outputs": [],
     "prompt_number": 9
    },
    {
     "cell_type": "code",
     "collapsed": false,
     "input": [
      "x.sort()"
     ],
     "language": "python",
     "metadata": {},
     "outputs": [],
     "prompt_number": 10
    },
    {
     "cell_type": "code",
     "collapsed": false,
     "input": [
      "numpy.mean(x)"
     ],
     "language": "python",
     "metadata": {},
     "outputs": [
      {
       "metadata": {},
       "output_type": "pyout",
       "prompt_number": 3,
       "text": [
        "0.15516666666666667"
       ]
      }
     ],
     "prompt_number": 3
    },
    {
     "cell_type": "code",
     "collapsed": false,
     "input": [
      "numpy.median(x)"
     ],
     "language": "python",
     "metadata": {},
     "outputs": [
      {
       "metadata": {},
       "output_type": "pyout",
       "prompt_number": 4,
       "text": [
        "-0.27100000000000002"
       ]
      }
     ],
     "prompt_number": 4
    },
    {
     "cell_type": "code",
     "collapsed": false,
     "input": [
      "xo = [-0.441, 1.774, -0.101, -1.138, 2.975, -213.8]"
     ],
     "language": "python",
     "metadata": {},
     "outputs": [],
     "prompt_number": 13
    },
    {
     "cell_type": "code",
     "collapsed": false,
     "input": [
      "numpy.mean(xo)"
     ],
     "language": "python",
     "metadata": {},
     "outputs": [
      {
       "metadata": {},
       "output_type": "pyout",
       "prompt_number": 14,
       "text": [
        "-35.121833333333335"
       ]
      }
     ],
     "prompt_number": 14
    },
    {
     "cell_type": "code",
     "collapsed": false,
     "input": [
      "numpy.median(xo)"
     ],
     "language": "python",
     "metadata": {},
     "outputs": [
      {
       "metadata": {},
       "output_type": "pyout",
       "prompt_number": 16,
       "text": [
        "-0.27100000000000002"
       ]
      }
     ],
     "prompt_number": 16
    },
    {
     "cell_type": "code",
     "collapsed": false,
     "input": [
      "import random"
     ],
     "language": "python",
     "metadata": {},
     "outputs": [],
     "prompt_number": 20
    },
    {
     "cell_type": "code",
     "collapsed": false,
     "input": [
      "def Estimate(n=7, m=1000):\n",
      "    mu = 0\n",
      "    sigma = 1\n",
      "    \n",
      "    means = []\n",
      "    medians = []\n",
      "    for _ in range(m):\n",
      "        xs = [random.gauss(mu, sigma) for i in range(n)]\n",
      "        xbar = np.mean(xs)\n",
      "        median = np.median(xs)\n",
      "        means.append(xbar)\n",
      "        medians.append(median)\n",
      "        \n",
      "    print('rmse xbar', RMSE(means, mu))\n",
      "    print('rmse median', RMSE(medians, mu))"
     ],
     "language": "python",
     "metadata": {},
     "outputs": [],
     "prompt_number": 27
    },
    {
     "cell_type": "code",
     "collapsed": false,
     "input": [
      "def RMSE(estimates, actual):\n",
      "    e2 = [(estimate-actual)**2 for estimate in estimates]\n",
      "    mse = np.mean(e2)\n",
      "    return math.sqrt(mse)"
     ],
     "language": "python",
     "metadata": {},
     "outputs": [],
     "prompt_number": 18
    },
    {
     "cell_type": "code",
     "collapsed": false,
     "input": [
      "Estimate()"
     ],
     "language": "python",
     "metadata": {},
     "outputs": [
      {
       "output_type": "stream",
       "stream": "stdout",
       "text": [
        "('rmse xbar', 0.3795043826615012)\n",
        "('rmse median', 0.4614029410958301)\n"
       ]
      }
     ],
     "prompt_number": 33
    },
    {
     "cell_type": "code",
     "collapsed": false,
     "input": [
      "def EstimateS2(n=7, m=1000):\n",
      "    mu = 0\n",
      "    sigma = 1\n",
      "    \n",
      "    estimates1 = []\n",
      "    estimates2 = []\n",
      "    for _ in range(m):\n",
      "        xs = [random.gauss(mu, sigma) for i in range(n)]\n",
      "        biased = np.var(xs)\n",
      "        unbiased = np.var(xs, ddof=1)\n",
      "        estimates1.append(biased)\n",
      "        estimates2.append(unbiased)\n",
      "        \n",
      "    print('mean error biased', MeanError(estimates1, sigma**2))\n",
      "    print('mean error unbiased', MeanError(estimates2, sigma**2))"
     ],
     "language": "python",
     "metadata": {},
     "outputs": [],
     "prompt_number": 39
    },
    {
     "cell_type": "code",
     "collapsed": false,
     "input": [
      "def MeanError(estimates, actual):\n",
      "    errors = [estimate-actual for estimate in estimates]\n",
      "    return np.mean(errors)"
     ],
     "language": "python",
     "metadata": {},
     "outputs": [],
     "prompt_number": 35
    },
    {
     "cell_type": "code",
     "collapsed": false,
     "input": [
      "EstimateS2()"
     ],
     "language": "python",
     "metadata": {},
     "outputs": [
      {
       "output_type": "stream",
       "stream": "stdout",
       "text": [
        "('mean error biased', -0.15237293228597332)\n",
        "('mean error unbiased', -0.011101754333635345)\n"
       ]
      }
     ],
     "prompt_number": 40
    },
    {
     "cell_type": "code",
     "collapsed": false,
     "input": [
      "EstimateS2(n=7,m=10000)"
     ],
     "language": "python",
     "metadata": {},
     "outputs": [
      {
       "output_type": "stream",
       "stream": "stdout",
       "text": [
        "('mean error biased', -0.14197722595295265)\n",
        "('mean error unbiased', 0.0010265697215557617)\n"
       ]
      }
     ],
     "prompt_number": 44
    },
    {
     "cell_type": "code",
     "collapsed": false,
     "input": [
      "import thinkstats2"
     ],
     "language": "python",
     "metadata": {},
     "outputs": [],
     "prompt_number": 47
    },
    {
     "cell_type": "code",
     "collapsed": false,
     "input": [
      "def SimSamplingError(mu=90, sigma=7.5, n=9, m=1000):\n",
      "    means = []\n",
      "    for j in range(m):\n",
      "        xs = np.random.normal(mu, sigma, n)\n",
      "        xbar = np.mean(xs)\n",
      "        means.append(xbar)\n",
      "        \n",
      "    cdf = thinkstats2.MakeCdfFromList(means)\n",
      "    ci = cdf.Percentile(5), cdf.Percentile(95)\n",
      "    stderr = RMSE(means, mu)\n",
      "    \n",
      "    print('mu', np.mean(means))\n",
      "    print('5% CI', ci[0])\n",
      "    print('95% CI', ci[1])\n",
      "    print('stderr', stderr)"
     ],
     "language": "python",
     "metadata": {},
     "outputs": [],
     "prompt_number": 53
    },
    {
     "cell_type": "code",
     "collapsed": false,
     "input": [
      "SimSamplingError()"
     ],
     "language": "python",
     "metadata": {},
     "outputs": [
      {
       "output_type": "stream",
       "stream": "stdout",
       "text": [
        "('mu', 89.91456848220966)\n",
        "('5% CI', 85.791031310089011)\n",
        "('95% CI', 94.131443703798425)\n",
        "('stderr', 2.5729517557074364)\n"
       ]
      }
     ],
     "prompt_number": 54
    },
    {
     "cell_type": "code",
     "collapsed": false,
     "input": [
      "SimSamplingError()"
     ],
     "language": "python",
     "metadata": {},
     "outputs": [
      {
       "output_type": "stream",
       "stream": "stdout",
       "text": [
        "('mu', 90.048616280836981)\n",
        "('5% CI', 86.176998352716595)\n",
        "('95% CI', 94.061908211724429)\n",
        "('stderr', 2.4650493112421206)\n"
       ]
      }
     ],
     "prompt_number": 55
    },
    {
     "cell_type": "code",
     "collapsed": false,
     "input": [
      "import thinkplot"
     ],
     "language": "python",
     "metadata": {},
     "outputs": [],
     "prompt_number": 59
    },
    {
     "cell_type": "code",
     "collapsed": false,
     "input": [
      "nxs = np.random.normal(0,1,50)"
     ],
     "language": "python",
     "metadata": {},
     "outputs": [],
     "prompt_number": 74
    },
    {
     "cell_type": "code",
     "collapsed": false,
     "input": [
      "cdf = thinkstats2.Cdf(nxs)\n",
      "thinkplot.Cdf(cdf)"
     ],
     "language": "python",
     "metadata": {},
     "outputs": [
      {
       "metadata": {},
       "output_type": "pyout",
       "prompt_number": 75,
       "text": [
        "{'xscale': 'linear', 'yscale': 'linear'}"
       ]
      },
      {
       "metadata": {},
       "output_type": "display_data",
       "png": "[encoded data removed]",
       "text": [
        "<matplotlib.figure.Figure at 0x113dc4390>"
       ]
      }
     ],
     "prompt_number": 75
    },
    {
     "cell_type": "code",
     "collapsed": false,
     "input": [
      "thinkplot.Pmf(cdf.MakePmf())"
     ],
     "language": "python",
     "metadata": {},
     "outputs": [
      {
       "metadata": {},
       "output_type": "display_data",
       "png": "[encoded data removed]",
       "text": [
        "<matplotlib.figure.Figure at 0x1139fb6d0>"
       ]
      }
     ],
     "prompt_number": 76
    },
    {
     "cell_type": "code",
     "collapsed": false,
     "input": [],
     "language": "python",
     "metadata": {},
     "outputs": []
    }
   ],
   "metadata": {}
  }
 ]
}