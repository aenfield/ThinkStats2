{
 "metadata": {
  "name": "",
  "signature": "sha256:293d9a3fab845e4a04a3ed74fc122e8840d22f21ba80e2b3210cd01130558794"
 },
 "nbformat": 3,
 "nbformat_minor": 0,
 "worksheets": [
  {
   "cells": [
    {
     "cell_type": "code",
     "collapsed": false,
     "input": [
      "import regression\n",
      "import first"
     ],
     "language": "python",
     "metadata": {},
     "outputs": [],
     "prompt_number": 1
    },
    {
     "cell_type": "code",
     "collapsed": false,
     "input": [
      "live, firsts, others = first.MakeFrames()"
     ],
     "language": "python",
     "metadata": {},
     "outputs": [],
     "prompt_number": 2
    },
    {
     "cell_type": "code",
     "collapsed": false,
     "input": [
      "regression.PredictBirthWeight(live)"
     ],
     "language": "python",
     "metadata": {},
     "outputs": [
      {
       "output_type": "stream",
       "stream": "stdout",
       "text": [
        "totalwgt_lb 1.0\n",
        "lbw1_i 0.971200162975 LBW1 IMPUTATION FLAG\n",
        "birthwgt_lb 0.949812730598 BD-3 BIRTHWEIGHT IN POUNDS - 1ST BABY FROM THIS PREGNANCY\n",
        "lbw1 0.300824078447 LOW BIRTHWEIGHT - BABY 1\n",
        "prglngth 0.130125194886 DURATION OF COMPLETED PREGNANCY IN WEEKS\n",
        "wksgest 0.123400413634 GESTATIONAL LENGTH OF COMPLETED PREGNANCY (IN WEEKS)\n",
        "agecon 0.102031499282 AGE AT TIME OF CONCEPTION\n",
        "mosgest 0.0271442746396 GESTATIONAL LENGTH OF COMPLETED PREGNANCY (IN MONTHS)\n",
        "babysex 0.0185509252939 BD-2 SEX OF 1ST LIVEBORN BABY FROM THIS PREGNANCY\n",
        "race_r 0.0161995035863 RACE\n",
        "race 0.0161995035863 RACE\n",
        "nbrnaliv 0.0160177527098 BC-2 NUMBER OF BABIES BORN ALIVE FROM THIS PREGNANCY\n",
        "paydu 0.0140037955781 IB-10 CURRENT LIVING QUARTERS OWNED/RENTED, ETC\n",
        "rmarout03 0.0134300664657 INFORMAL MARITAL STATUS WHEN PREGNANCY ENDED - 3RD\n",
        "birthwgt_oz 0.0131024576157 BD-3 BIRTHWEIGHT IN OUNCES - 1ST BABY FROM THIS PREGNANCY\n",
        "anynurse 0.0125290225418 BH-1 WHETHER R BREASTFED THIS CHILD AT ALL - 1ST FROM THIS PREG\n",
        "bfeedwks 0.0121936884045 DURATION OF BREASTFEEDING IN WEEKS\n",
        "totincr 0.0118700690312 TOTAL INCOME OF R'S FAMILY\n",
        "marout03 0.0118078019944 FORMAL MARITAL STATUS WHEN PREGNANCY ENDED - 3RD\n",
        "marcon03 0.0117525993544 FORMAL MARITAL STATUS WHEN PREGNANCY BEGAN - 3RD\n",
        "cebow 0.0114377709196 NUMBER OF CHILDREN BORN OUT OF WEDLOCK\n",
        "rmarout01 0.0114077371386 INFORMAL MARITAL STATUS WHEN PREGNANCY ENDED - 1ST\n",
        "rmarout6 0.0113541384728 INFORMAL MARITAL STATUS AT PREGNANCY OUTCOME - 6 CATEGORIES\n",
        "marout01 0.0112693572468 FORMAL MARITAL STATUS WHEN PREGNANCY ENDED - 1ST\n",
        "hisprace_r 0.011238349302 RACE AND HISPANIC ORIGIN\n",
        "hisprace 0.011238349302 RACE AND HISPANIC ORIGIN\n",
        "mar1diss 0.0109615635908 MONTHS BTW/1ST MARRIAGE & DISSOLUTION (OR INTERVIEW)\n",
        "fmarcon5 0.0106049646843 FORMAL MARITAL STATUS AT CONCEPTION - 5 CATEGORIES\n",
        "rmarout02 0.0105469132066 INFORMAL MARITAL STATUS WHEN PREGNANCY ENDED - 2ND\n",
        "marcon02 0.0104814017955 FORMAL MARITAL STATUS WHEN PREGNANCY BEGAN - 2ND\n",
        "Intercept   6.63   (0)"
       ]
      },
      {
       "output_type": "stream",
       "stream": "stdout",
       "text": [
        "\n",
        "C(race)[T.2]   0.357   (5.43e-29)\n",
        "C(race)[T.3]   0.266   (2.33e-07)\n",
        "babysex == 1[T.True]   0.295   (5.39e-29)\n",
        "nbrnaliv > 1[T.True]   -1.38   (5.1e-37)\n",
        "paydu == 1[T.True]   0.12   (0.000114)\n",
        "agepreg   0.00741   (0.0035)\n",
        "totincr   0.0122   (0.00188)\n",
        "R^2 0.05999\n",
        "Std(ys) 1.271\n",
        "Std(res) 1.232\n"
       ]
      },
      {
       "output_type": "stream",
       "stream": "stderr",
       "text": [
        "C:\\Anaconda\\lib\\site-packages\\numpy\\core\\_methods.py:83: RuntimeWarning: Degrees of freedom <= 0 for slice\n",
        "  warnings.warn(\"Degrees of freedom <= 0 for slice\", RuntimeWarning)\n"
       ]
      }
     ],
     "prompt_number": 3
    },
    {
     "cell_type": "code",
     "collapsed": false,
     "input": [],
     "language": "python",
     "metadata": {},
     "outputs": []
    }
   ],
   "metadata": {}
  }
 ]
}